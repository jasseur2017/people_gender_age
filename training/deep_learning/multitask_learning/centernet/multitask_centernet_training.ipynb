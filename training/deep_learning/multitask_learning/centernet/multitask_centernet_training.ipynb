{
 "cells": [
  {
   "attachments": {},
   "cell_type": "markdown",
   "metadata": {
    "id": "lK58y2L3Xekd"
   },
   "source": [
    "# Data"
   ]
  },
  {
   "attachments": {},
   "cell_type": "markdown",
   "metadata": {
    "id": "uCQqiKX2XnKQ"
   },
   "source": [
    "## Crowd human"
   ]
  },
  {
   "cell_type": "code",
   "execution_count": null,
   "metadata": {},
   "outputs": [],
   "source": [
    "from pathlib import Path\n",
    "\n",
    "crowdhuman_data_dir = Path(\"/home/jasseur/Downloads/crowdhuman\")"
   ]
  },
  {
   "cell_type": "code",
   "execution_count": null,
   "metadata": {},
   "outputs": [],
   "source": [
    "GENDERS = [\"M\", \"F\"]\n",
    "AGES = [\"1-2\", \"3-9\", \"10-20\", \"21-25\", \"26-27\", \"28-31\", \"32-36\", \"37-45\", \"46-54\", \"55-65\", \"66-116\"]"
   ]
  },
  {
   "cell_type": "code",
   "execution_count": null,
   "metadata": {},
   "outputs": [],
   "source": [
    "import pandas as pd\n",
    "import numpy as np\n",
    "\n",
    "def read_df(data_file):\n",
    "    data_df = pd.read_csv(data_file)\n",
    "    data_df.loc[pd.notnull(data_df[\"gender\"]), \"gender\"] = (\n",
    "        data_df.loc[pd.notnull(data_df[\"gender\"]), \"gender\"].apply(lambda x: GENDERS.index(x))\n",
    "    )\n",
    "    data_df.loc[pd.notnull(data_df[\"age\"]), \"age\"] = (\n",
    "        data_df.loc[pd.notnull(data_df[\"age\"]), \"age\"].apply(lambda x: AGES.index(x))\n",
    "    )\n",
    "    # data_df = data_df.groupby(\"id\").filter(lambda d: d[\"gender\"].notnull().any())\n",
    "    return data_df"
   ]
  },
  {
   "cell_type": "code",
   "execution_count": null,
   "metadata": {},
   "outputs": [],
   "source": [
    "crowdhuman_train_file = Path(\"../../../data/crowdhuman/annotation_train_with_classes.csv\")\n",
    "crowdhuman_train_df = read_df(crowdhuman_train_file)\n",
    "crowdhuman_train_df.head(1)"
   ]
  },
  {
   "cell_type": "code",
   "execution_count": null,
   "metadata": {},
   "outputs": [],
   "source": [
    "crowdhuman_train_df.shape"
   ]
  },
  {
   "cell_type": "code",
   "execution_count": null,
   "metadata": {},
   "outputs": [],
   "source": [
    "crowdhuman_val_file = Path(\"../../../data/crowdhuman/annotation_val_with_classes.csv\")\n",
    "crowdhuman_val_df = read_df(crowdhuman_val_file)\n",
    "crowdhuman_val_df.head(1)"
   ]
  },
  {
   "cell_type": "code",
   "execution_count": null,
   "metadata": {},
   "outputs": [],
   "source": [
    "import random\n",
    "import albumentations as A\n",
    "import albumentations.augmentations.geometric.functional as F\n",
    "import cv2\n",
    "\n",
    "class AspectRatioResize(A.DualTransform):\n",
    "    \"\"\"Resize the input to the given height and width.\n",
    "\n",
    "    Args:\n",
    "        p (float): probability of applying the transform. Default: 1.\n",
    "        height (int): desired height of the output.\n",
    "        width (int): desired width of the output.\n",
    "        interpolation (OpenCV flag): flag that is used to specify the interpolation algorithm. Should be one of:\n",
    "            cv2.INTER_NEAREST, cv2.INTER_LINEAR, cv2.INTER_CUBIC, cv2.INTER_AREA, cv2.INTER_LANCZOS4.\n",
    "            Default: cv2.INTER_LINEAR.\n",
    "\n",
    "    Targets:\n",
    "        image, mask, bboxes\n",
    "\n",
    "    Image types:\n",
    "        uint8, float32\n",
    "    \"\"\"\n",
    "\n",
    "    def __init__(\n",
    "        self, height, width, scale=(1, 1), interpolation=cv2.INTER_LINEAR, always_apply=False, p=1\n",
    "    ):\n",
    "        super(AspectRatioResize, self).__init__(always_apply, p)\n",
    "        self.height = height\n",
    "        self.width = width\n",
    "        self.scale = scale\n",
    "        self.interpolation = interpolation\n",
    "\n",
    "    def apply(self, img, interpolation=cv2.INTER_LINEAR, **params):\n",
    "        height, width, _ = img.shape\n",
    "        r = min(self.width / width, self.height / height)\n",
    "        scale = random.uniform(*self.scale)\n",
    "        return F.resize(\n",
    "            img, height=int(scale * r * height), width=int(scale * r * width),\n",
    "            interpolation=interpolation\n",
    "        )\n",
    "\n",
    "    def apply_to_bbox(self, bbox, **params):\n",
    "        # Bounding box coordinates are scale invariant\n",
    "        return bbox"
   ]
  },
  {
   "cell_type": "code",
   "execution_count": null,
   "metadata": {},
   "outputs": [],
   "source": [
    "import albumentations as A\n",
    "\n",
    "IMAGE_SIZE = (1088, 608)\n",
    "\n",
    "crowdhuman_train_transform = A.Compose(\n",
    "    [\n",
    "        AspectRatioResize(height=IMAGE_SIZE[1], width=IMAGE_SIZE[0], scale=(1.0, 1.0), p=1.0),\n",
    "        A.PadIfNeeded(\n",
    "            min_height=IMAGE_SIZE[1], min_width=IMAGE_SIZE[0], border_mode=cv2.BORDER_CONSTANT, #BORDER_WRAP,\n",
    "            value=[128, 128, 128]\n",
    "        ),\n",
    "#         A.Resize(height=IMAGE_SIZE[1], width=IMAGE_SIZE[0], p=1.0)\n",
    "        A.HorizontalFlip(p=0.5),\n",
    "        A.HueSaturationValue(hue_shift_limit=20, sat_shift_limit=30, val_shift_limit=20, p=0.5),\n",
    "    ], \n",
    "    p=1.0, \n",
    "    bbox_params=A.BboxParams(\n",
    "        format=\"pascal_voc\",\n",
    "        min_area=0,\n",
    "        min_visibility=0,\n",
    "        label_fields=[\"genders\", \"ages\"]\n",
    "    )\n",
    ")\n",
    "\n",
    "crowdhuman_val_transform = A.Compose(\n",
    "    [\n",
    "        AspectRatioResize(height=IMAGE_SIZE[1], width=IMAGE_SIZE[0], scale=(1.0, 1.0), p=1.0),\n",
    "        A.PadIfNeeded(\n",
    "            min_height=IMAGE_SIZE[1], min_width=IMAGE_SIZE[0], border_mode=cv2.BORDER_CONSTANT,\n",
    "            value=[128, 128, 128]\n",
    "        )\n",
    "#         A.Resize(height=IMAGE_SIZE[1], width=IMAGE_SIZE[0], p=1.0)\n",
    "    ],\n",
    "    p=1.0,\n",
    "    bbox_params=A.BboxParams(\n",
    "        format=\"pascal_voc\",\n",
    "        min_area=0,\n",
    "        min_visibility=0,\n",
    "        label_fields=[\"genders\", \"ages\"]\n",
    "    )\n",
    ")"
   ]
  },
  {
   "cell_type": "code",
   "execution_count": null,
   "metadata": {},
   "outputs": [],
   "source": [
    "from src.train_dataset import TrainDataset\n",
    "%load_ext autoreload\n",
    "%autoreload 2\n",
    "\n",
    "crowdhuman_train_dir = Path(crowdhuman_data_dir, \"Images\")\n",
    "crowdhuman_train_dataset = TrainDataset(crowdhuman_train_dir, crowdhuman_train_df, crowdhuman_train_transform)\n",
    "crowdhuman_val_dataset = TrainDataset(crowdhuman_train_dir, crowdhuman_val_df, crowdhuman_val_transform)"
   ]
  },
  {
   "cell_type": "code",
   "execution_count": null,
   "metadata": {},
   "outputs": [],
   "source": [
    "len(crowdhuman_train_dataset), len(crowdhuman_val_dataset)"
   ]
  },
  {
   "cell_type": "code",
   "execution_count": null,
   "metadata": {},
   "outputs": [],
   "source": []
  },
  {
   "cell_type": "code",
   "execution_count": null,
   "metadata": {},
   "outputs": [],
   "source": [
    "from matplotlib import pyplot as plt\n",
    "%matplotlib inline\n",
    "import numpy as np\n",
    "import cv2\n",
    "\n",
    "image, centers, dimensions, genders, ages = crowdhuman_train_dataset[3].values()\n",
    "for center, dimension, gender, age in zip(centers, dimensions, genders, ages):\n",
    "    x, y = map(int, center)\n",
    "    l, t, r, b = map(int, dimension)\n",
    "    cv2.rectangle(\n",
    "        image,\n",
    "        (x - l, y - t),\n",
    "        (x + r, y + b),\n",
    "        (1.0, 0.0, 0.0) if gender == 1 else (0.0, 0.0, 1.0) if gender == 0 else (1.0, 1.0, 0.0),\n",
    "        2\n",
    "    )\n",
    "    # if not np.isnan(age):\n",
    "    #     cv2.putText(\n",
    "    #         image, AGES[int(age)], (x, y - 10), cv2.FONT_HERSHEY_PLAIN, 2, (1, 1, 1), 2\n",
    "    #     )\n",
    "\n",
    "plt.figure()\n",
    "plt.imshow(image)\n",
    "plt.show()"
   ]
  },
  {
   "cell_type": "code",
   "execution_count": null,
   "metadata": {},
   "outputs": [],
   "source": []
  },
  {
   "attachments": {},
   "cell_type": "markdown",
   "metadata": {
    "id": "5kRk5_9sXuYJ"
   },
   "source": [
    "## MOT15"
   ]
  },
  {
   "cell_type": "code",
   "execution_count": null,
   "metadata": {
    "id": "XT7RKUErsW3H"
   },
   "outputs": [],
   "source": [
    "from pathlib import Path\n",
    "\n",
    "mot15_data_dir = Path(\"/home/jasseur/Downloads/MOT15\")\n",
    "!ls $mot15_data_dir"
   ]
  },
  {
   "cell_type": "code",
   "execution_count": null,
   "metadata": {},
   "outputs": [],
   "source": [
    "!ls /home/jasseur/Downloads/MOT15/train"
   ]
  },
  {
   "cell_type": "code",
   "execution_count": null,
   "metadata": {
    "id": "7017M6SHRlAL"
   },
   "outputs": [],
   "source": [
    "import pandas as pd\n",
    "\n",
    "mot15_train_df = pd.read_csv(Path(\"../../../data/mot15/annotation_train.csv\"))\n",
    "mot15_train_df.head()"
   ]
  },
  {
   "cell_type": "code",
   "execution_count": null,
   "metadata": {
    "id": "P8bNcBETSXi7"
   },
   "outputs": [],
   "source": [
    "import albumentations as A\n",
    "\n",
    "IMAGE_SIZE = (1088, 608)\n",
    "\n",
    "mot15_train_transform = A.Compose(\n",
    "    [\n",
    "        A.Resize(height=IMAGE_SIZE[1], width=IMAGE_SIZE[0], p=1.0),\n",
    "    ], \n",
    "    p=1.0, \n",
    "    bbox_params=A.BboxParams(\n",
    "        format=\"pascal_voc\",\n",
    "        min_area=0,\n",
    "        min_visibility=0,\n",
    "        label_fields=[\"person_ids\"]\n",
    "    )\n",
    ")\n",
    "\n",
    "mot15_val_transform = A.Compose(\n",
    "    [\n",
    "        A.Resize(height=IMAGE_SIZE[1], width=IMAGE_SIZE[0], p=1.0),\n",
    "    ],\n",
    "    p=1.0,\n",
    "    bbox_params=A.BboxParams(\n",
    "        format=\"pascal_voc\",\n",
    "        min_area=0,\n",
    "        min_visibility=0,\n",
    "        label_fields=[\"person_ids\"]\n",
    "    )\n",
    ")"
   ]
  },
  {
   "cell_type": "code",
   "execution_count": null,
   "metadata": {},
   "outputs": [],
   "source": [
    "import sys\n",
    "sys.path.append(\"../..\")\n",
    "from person_reidentification.centernet.src.train_dataset import TrainDataset\n",
    "%load_ext autoreload\n",
    "%autoreload 2\n",
    "\n",
    "mot15_train_dir = Path(mot15_data_dir, \"train\")\n",
    "mot15_train_dataset = TrainDataset(mot15_train_dir, mot15_train_df, mot15_train_transform)"
   ]
  },
  {
   "cell_type": "code",
   "execution_count": null,
   "metadata": {},
   "outputs": [],
   "source": [
    "def get_color(idx):\n",
    "    idx = idx * 3\n",
    "    color = ((37 * idx) % 255 / 255, (17 * idx) % 255 / 255, (29 * idx) % 255 / 255)\n",
    "    return color"
   ]
  },
  {
   "cell_type": "code",
   "execution_count": null,
   "metadata": {},
   "outputs": [],
   "source": [
    "from matplotlib import pyplot as plt\n",
    "%matplotlib inline\n",
    "import cv2\n",
    "\n",
    "image, centers, person_ids = mot15_train_dataset[25].values()\n",
    "for center, person_id in zip(centers.tolist(), person_ids.tolist()):\n",
    "    x, y = map(int, center)\n",
    "    color = get_color(person_id)\n",
    "    cv2.circle(\n",
    "        image, (x, y), 20, color, 2, lineType=cv2.LINE_AA\n",
    "    )\n",
    "\n",
    "plt.imshow(image)\n",
    "plt.show()"
   ]
  },
  {
   "cell_type": "code",
   "execution_count": null,
   "metadata": {},
   "outputs": [],
   "source": []
  },
  {
   "attachments": {},
   "cell_type": "markdown",
   "metadata": {
    "id": "y5nisZMK0RKy"
   },
   "source": [
    "# Modeling"
   ]
  },
  {
   "attachments": {},
   "cell_type": "markdown",
   "metadata": {},
   "source": [
    "## Training"
   ]
  },
  {
   "cell_type": "code",
   "execution_count": null,
   "metadata": {},
   "outputs": [],
   "source": [
    "import os\n",
    "import torch\n",
    "\n",
    "def seedEverything(seed):\n",
    "    random.seed(seed)\n",
    "    os.environ['PYTHONHASHSEED'] = str(seed)\n",
    "    np.random.seed(seed)\n",
    "    torch.manual_seed(seed)\n",
    "    torch.cuda.manual_seed(seed)\n",
    "    torch.backends.cudnn.deterministic = True\n",
    "    torch.backends.cudnn.benchmark = False"
   ]
  },
  {
   "cell_type": "code",
   "execution_count": null,
   "metadata": {},
   "outputs": [],
   "source": [
    "!mkdir -p checkpoint log"
   ]
  },
  {
   "cell_type": "code",
   "execution_count": null,
   "metadata": {},
   "outputs": [],
   "source": [
    "import sys\n",
    "sys.path.append(\"../..\")\n",
    "from person_detection.centernet.src.pose_dla_dcn import get_pose_net as get_dla_dcn\n",
    "from src.trainer import Trainer\n",
    "%load_ext autoreload\n",
    "%autoreload 2\n",
    "\n",
    "num_layers = 34\n",
    "heads = {\"hm\": 1, \"wh\": 4, \"reg\": 2, \"id\": 128, \"gender\": len(GENDERS), \"age\": len(AGES)}\n",
    "head_conv = 256\n",
    "net = get_dla_dcn(num_layers, heads, head_conv)\n",
    "# model_path = Path(\"/home/jasseur/Downloads/crowdhuman_dla34.pth)\"\n",
    "model_path = Path(\"/home/jasseur/Downloads/fairmot_dla34.pth\")\n",
    "trainer = Trainer(\n",
    "    net, image_size=IMAGE_SIZE, device=\"cuda:1\",\n",
    "    checkpoint_dir=\"checkpoint\", log_dir=\"log\", model_path=None\n",
    ")"
   ]
  },
  {
   "cell_type": "code",
   "execution_count": null,
   "metadata": {},
   "outputs": [],
   "source": [
    "from torch.utils.data import ConcatDataset\n",
    "train_dataset = ConcatDataset([crowdhuman_train_dataset, mot15_train_dataset])\n",
    "val_dataset = ConcatDataset([crowdhuman_val_dataset, mot15_train_dataset])"
   ]
  },
  {
   "cell_type": "code",
   "execution_count": null,
   "metadata": {},
   "outputs": [],
   "source": [
    "seedEverything(2020)\n",
    "trainer.fit(train_dataset, val_dataset, batch_size=16, epochs=20)"
   ]
  },
  {
   "cell_type": "code",
   "execution_count": null,
   "metadata": {},
   "outputs": [],
   "source": []
  },
  {
   "cell_type": "code",
   "execution_count": null,
   "metadata": {
    "id": "pZhyCxrUD1US"
   },
   "outputs": [],
   "source": [
    "trainer.eval(val_dataset)"
   ]
  },
  {
   "cell_type": "code",
   "execution_count": null,
   "metadata": {},
   "outputs": [],
   "source": []
  }
 ],
 "metadata": {
  "accelerator": "GPU",
  "colab": {
   "collapsed_sections": [],
   "name": "fairmot-training.ipynb",
   "provenance": [],
   "toc_visible": true
  },
  "kernelspec": {
   "display_name": "Python 3 (ipykernel)",
   "language": "python",
   "name": "python3"
  },
  "language_info": {
   "codemirror_mode": {
    "name": "ipython",
    "version": 3
   },
   "file_extension": ".py",
   "mimetype": "text/x-python",
   "name": "python",
   "nbconvert_exporter": "python",
   "pygments_lexer": "ipython3",
   "version": "3.8.13"
  }
 },
 "nbformat": 4,
 "nbformat_minor": 1
}
