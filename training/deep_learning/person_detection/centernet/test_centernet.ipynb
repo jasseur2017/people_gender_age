{
 "cells": [
  {
   "cell_type": "code",
   "execution_count": null,
   "metadata": {},
   "outputs": [],
   "source": [
    "IMAGE_SIZE = (608, 608)"
   ]
  },
  {
   "cell_type": "markdown",
   "metadata": {},
   "source": [
    "# Test Loss"
   ]
  },
  {
   "cell_type": "code",
   "execution_count": null,
   "metadata": {},
   "outputs": [],
   "source": [
    "import torch\n",
    "from src.loss import Loss\n",
    "%load_ext autoreload\n",
    "%autoreload 2\n",
    "\n",
    "thm = torch.zeros((224, 224, 1), dtype=torch.float32)\n",
    "gi = torch.tensor([30, 100, 150], dtype=torch.int64)\n",
    "gj = torch.tensor([30, 50, 200], dtype=torch.int64)\n",
    "offset = torch.tensor([[5, 10, 5, 10], [20, 10, 20, 10], [10, 15, 10, 15]], dtype=torch.int64)\n",
    "Loss.draw_gaussian(thm, gi, gj, offset)"
   ]
  },
  {
   "cell_type": "code",
   "execution_count": null,
   "metadata": {},
   "outputs": [],
   "source": [
    "from matplotlib import pyplot as plt\n",
    "%matplotlib inline\n",
    "\n",
    "plt.imshow(thm[:, :, 0].cpu().numpy(), cmap=\"hot\")\n",
    "plt.show()"
   ]
  },
  {
   "cell_type": "code",
   "execution_count": null,
   "metadata": {},
   "outputs": [],
   "source": [
    "(thm == 1).nonzero()"
   ]
  },
  {
   "cell_type": "markdown",
   "metadata": {},
   "source": [
    "# Test Loss t2p, PostProcessor p2t"
   ]
  },
  {
   "cell_type": "code",
   "execution_count": null,
   "metadata": {},
   "outputs": [],
   "source": [
    "import torch\n",
    "from src.loss import Loss\n",
    "from src.post_processor import PostProcessor\n",
    "%load_ext autoreload\n",
    "%autoreload 2\n",
    "\n",
    "criterion = Loss(IMAGE_SIZE)\n",
    "post_processor = PostProcessor(IMAGE_SIZE)"
   ]
  },
  {
   "cell_type": "code",
   "execution_count": null,
   "metadata": {},
   "outputs": [],
   "source": []
  },
  {
   "cell_type": "markdown",
   "metadata": {},
   "source": [
    "# Test Loss, PostProcessor"
   ]
  },
  {
   "cell_type": "code",
   "execution_count": null,
   "metadata": {},
   "outputs": [],
   "source": []
  },
  {
   "cell_type": "markdown",
   "metadata": {},
   "source": [
    "# Test Loss, PostProcessor, Accumulator, Trainer"
   ]
  },
  {
   "cell_type": "code",
   "execution_count": null,
   "metadata": {},
   "outputs": [],
   "source": [
    "import numpy as np\n",
    "\n",
    "class MockDataset(object):\n",
    "    \n",
    "    def __init__(self, length):\n",
    "        super().__init__()\n",
    "        self.length = length\n",
    "        \n",
    "    def __getitem__(self, idx):\n",
    "        return {\n",
    "            \"image\": np.empty((608, 608, 3), dtype=np.float32),\n",
    "            \"center\": np.array([[50, 50]], dtype=np.float32),\n",
    "            \"offset\": np.array([[10, 10, 10, 10]], dtype=np.float32)\n",
    "        }\n",
    "    \n",
    "    def __len__(self,):\n",
    "        return self.length"
   ]
  },
  {
   "cell_type": "code",
   "execution_count": null,
   "metadata": {},
   "outputs": [],
   "source": [
    "from torch import nn\n",
    "import torch\n",
    "\n",
    "class MockModel(nn.Module):\n",
    "    \n",
    "    def __init__(self,):\n",
    "        super().__init__()\n",
    "        self.preds_hm = nn.Parameter(\n",
    "            torch.ones((1, 1, IMAGE_SIZE[1] // 4, IMAGE_SIZE[0] // 4), dtype=torch.float32)\n",
    "        )\n",
    "        self.preds_wh = nn.Parameter(\n",
    "            torch.ones((1, 4, IMAGE_SIZE[1] // 4, IMAGE_SIZE[0] // 4), dtype=torch.float32)\n",
    "        )\n",
    "        self.preds_reg = nn.Parameter(\n",
    "            torch.ones((1, 2, IMAGE_SIZE[1] // 4, IMAGE_SIZE[0] // 4), dtype=torch.float32)\n",
    "        )\n",
    "        \n",
    "    def forward(self, images):\n",
    "        return [{\"hm\": torch.tile(self.preds_hm, (images.size(0), 1, 1, 1)),\n",
    "                \"wh\": torch.tile(self.preds_wh, (images.size(0), 1, 1, 1)),\n",
    "                \"reg\": torch.tile(self.preds_reg, (images.size(0), 1, 1, 1))}]"
   ]
  },
  {
   "cell_type": "code",
   "execution_count": null,
   "metadata": {},
   "outputs": [],
   "source": [
    "from src.trainer import Trainer\n",
    "%load_ext autoreload\n",
    "%autoreload 2\n",
    "\n",
    "net = MockModel()\n",
    "trainer = Trainer(\n",
    "    net, image_size=IMAGE_SIZE, device=\"cuda\",\n",
    "    checkpoint_dir=None, model_path=None\n",
    ")"
   ]
  },
  {
   "cell_type": "code",
   "execution_count": null,
   "metadata": {},
   "outputs": [],
   "source": [
    "trainer.optimizer.param_groups[0][\"lr\"] = 1e-2\n",
    "trainer.optimizer.param_groups[0][\"weight_decay\"] = 1e-4"
   ]
  },
  {
   "cell_type": "code",
   "execution_count": null,
   "metadata": {},
   "outputs": [],
   "source": [
    "import tempfile\n",
    "from pathlib import Path\n",
    "\n",
    "with tempfile.TemporaryDirectory() as tmpdir:\n",
    "    trainer.checkpoint_dir = Path(tmpdir)\n",
    "    trainer.fit(MockDataset(1000), MockDataset(1), batch_size=4, epochs=20)"
   ]
  },
  {
   "cell_type": "code",
   "execution_count": null,
   "metadata": {},
   "outputs": [],
   "source": []
  },
  {
   "cell_type": "code",
   "execution_count": null,
   "metadata": {},
   "outputs": [],
   "source": [
    "net.eval()\n",
    "preds = (net.preds_hm, net.preds_wh, net.preds_reg)\n",
    "preds_hm = trainer.pre_detector(net.preds_hm)\n",
    "preds_center, preds_offset, preds_score = trainer.post_processor(\n",
    "    preds_hm.detach().cpu().numpy(), net.preds_wh.detach().cpu().numpy(),\n",
    "    net.preds_reg.detach().cpu().numpy()\n",
    ")\n",
    "preds_center, preds_offset, preds_score"
   ]
  },
  {
   "cell_type": "code",
   "execution_count": null,
   "metadata": {},
   "outputs": [],
   "source": []
  }
 ],
 "metadata": {
  "kernelspec": {
   "display_name": "Python 3 (ipykernel)",
   "language": "python",
   "name": "python3"
  },
  "language_info": {
   "codemirror_mode": {
    "name": "ipython",
    "version": 3
   },
   "file_extension": ".py",
   "mimetype": "text/x-python",
   "name": "python",
   "nbconvert_exporter": "python",
   "pygments_lexer": "ipython3",
   "version": "3.8.12"
  }
 },
 "nbformat": 4,
 "nbformat_minor": 2
}
