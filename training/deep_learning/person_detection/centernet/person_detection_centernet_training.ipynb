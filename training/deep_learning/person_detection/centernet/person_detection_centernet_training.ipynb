{
 "cells": [
  {
   "attachments": {},
   "cell_type": "markdown",
   "metadata": {
    "id": "lK58y2L3Xekd"
   },
   "source": [
    "# Data"
   ]
  },
  {
   "attachments": {},
   "cell_type": "markdown",
   "metadata": {
    "id": "uCQqiKX2XnKQ"
   },
   "source": [
    "## Crowd human"
   ]
  },
  {
   "cell_type": "code",
   "execution_count": null,
   "metadata": {},
   "outputs": [],
   "source": [
    "from pathlib import Path\n",
    "\n",
    "data_dir = Path(\"/home/username/Downloads/crowdhuman\")"
   ]
  },
  {
   "cell_type": "code",
   "execution_count": null,
   "metadata": {},
   "outputs": [],
   "source": [
    "import pandas as pd\n",
    "\n",
    "train_crowd_file = Path(\"../../../mlops/crowdhuman/annotation_train.csv\")\n",
    "train_df = pd.read_csv(train_crowd_file)\n",
    "train_df.head(1)"
   ]
  },
  {
   "cell_type": "code",
   "execution_count": null,
   "metadata": {},
   "outputs": [],
   "source": [
    "val_crowd_file = Path(\"../../../mlops/crowdhuman/annotation_val.csv\")\n",
    "val_df = pd.read_csv(val_crowd_file)\n",
    "val_df.head(1)"
   ]
  },
  {
   "cell_type": "code",
   "execution_count": null,
   "metadata": {},
   "outputs": [],
   "source": [
    "train_df.shape"
   ]
  },
  {
   "cell_type": "code",
   "execution_count": null,
   "metadata": {},
   "outputs": [],
   "source": [
    "import albumentations as A\n",
    "import albumentations.augmentations.geometric.functional as F\n",
    "import cv2\n",
    "\n",
    "class AspectRatioResize(A.DualTransform):\n",
    "    \"\"\"Resize the input to the given height and width.\n",
    "\n",
    "    Args:\n",
    "        p (float): probability of applying the transform. Default: 1.\n",
    "        height (int): desired height of the output.\n",
    "        width (int): desired width of the output.\n",
    "        interpolation (OpenCV flag): flag that is used to specify the interpolation algorithm. Should be one of:\n",
    "            cv2.INTER_NEAREST, cv2.INTER_LINEAR, cv2.INTER_CUBIC, cv2.INTER_AREA, cv2.INTER_LANCZOS4.\n",
    "            Default: cv2.INTER_LINEAR.\n",
    "\n",
    "    Targets:\n",
    "        image, mask, bboxes\n",
    "\n",
    "    Image types:\n",
    "        uint8, float32\n",
    "    \"\"\"\n",
    "\n",
    "    def __init__(self, height, width, interpolation=cv2.INTER_LINEAR, always_apply=False, p=1):\n",
    "        super(AspectRatioResize, self).__init__(always_apply, p)\n",
    "        self.height = height\n",
    "        self.width = width\n",
    "        self.interpolation = interpolation\n",
    "\n",
    "    def apply(self, img, interpolation=cv2.INTER_LINEAR, **params):\n",
    "        height, width, _ = img.shape\n",
    "        r = min(self.width / width, self.height / height)\n",
    "        return F.resize(\n",
    "            img, height=int(r * height), width=int(r * width), interpolation=interpolation\n",
    "        )\n",
    "\n",
    "    def apply_to_bbox(self, bbox, **params):\n",
    "        # Bounding box coordinates are scale invariant\n",
    "        return bbox"
   ]
  },
  {
   "cell_type": "code",
   "execution_count": null,
   "metadata": {},
   "outputs": [],
   "source": [
    "import albumentations as A\n",
    "\n",
    "# IMAGE_SIZE = (416, 416)\n",
    "IMAGE_SIZE = (1088, 608)\n",
    "# IMAGE_SIZE = (608, 608)\n",
    "train_transform = A.Compose(\n",
    "    [\n",
    "        AspectRatioResize(height=IMAGE_SIZE[1], width=IMAGE_SIZE[0], p=1.0),\n",
    "        A.PadIfNeeded(\n",
    "            min_height=IMAGE_SIZE[1], min_width=IMAGE_SIZE[0], border_mode=cv2.BORDER_CONSTANT,\n",
    "            value=[128, 128, 128]\n",
    "        ),\n",
    "#         A.Resize(height=IMAGE_SIZE[1], width=IMAGE_SIZE[0], p=1.0),\n",
    "        A.HorizontalFlip(p=0.5),\n",
    "        A.HueSaturationValue(hue_shift_limit=20, sat_shift_limit=30, val_shift_limit=20, p=0.5),\n",
    "    ], \n",
    "    p=1.0, \n",
    "    bbox_params=A.BboxParams(\n",
    "        format=\"pascal_voc\",\n",
    "        min_area=0,\n",
    "        min_visibility=0,\n",
    "        label_fields=[]\n",
    "    )\n",
    ")\n",
    "\n",
    "val_transform = A.Compose(\n",
    "    [\n",
    "        AspectRatioResize(height=IMAGE_SIZE[1], width=IMAGE_SIZE[0], p=1.0),\n",
    "        A.PadIfNeeded(\n",
    "            min_height=IMAGE_SIZE[1], min_width=IMAGE_SIZE[0], border_mode=cv2.BORDER_CONSTANT,\n",
    "            value=[128, 128, 128]\n",
    "        )\n",
    "#         A.Resize(height=IMAGE_SIZE[1], width=IMAGE_SIZE[0], p=1.0)\n",
    "    ],\n",
    "    p=1.0,\n",
    "    bbox_params=A.BboxParams(\n",
    "        format=\"pascal_voc\",\n",
    "        min_area=0,\n",
    "        min_visibility=0,\n",
    "        label_fields=[]\n",
    "    )\n",
    ")"
   ]
  },
  {
   "cell_type": "code",
   "execution_count": null,
   "metadata": {
    "id": "TzBmr48JfY5h"
   },
   "outputs": [],
   "source": [
    "from src.train_dataset import TrainDataset\n",
    "%load_ext autoreload\n",
    "%autoreload 2\n",
    "\n",
    "train_dir = Path(data_dir, \"Images\")\n",
    "train_dataset = TrainDataset(train_dir, train_df, train_transform)\n",
    "val_dataset = TrainDataset(train_dir, val_df, val_transform)"
   ]
  },
  {
   "cell_type": "code",
   "execution_count": null,
   "metadata": {},
   "outputs": [],
   "source": [
    "len(train_dataset), len(val_dataset)"
   ]
  },
  {
   "cell_type": "code",
   "execution_count": null,
   "metadata": {},
   "outputs": [],
   "source": [
    "# train_dataset.data_groups = train_dataset.data_groups[:1000]\n",
    "# val_dataset.data_groups = val_dataset.data_groups[:1000]"
   ]
  },
  {
   "cell_type": "code",
   "execution_count": null,
   "metadata": {
    "id": "4LuyI81zOEsf"
   },
   "outputs": [],
   "source": [
    "from matplotlib import pyplot as plt\n",
    "%matplotlib inline\n",
    "import cv2\n",
    "\n",
    "image, centers, dimensions = train_dataset[0].values()\n",
    "for center, dimension in zip(centers, dimensions):\n",
    "    x, y = map(int, center)\n",
    "    l, t, r, b = map(int, dimension)\n",
    "    cv2.rectangle(\n",
    "        image, (x - l, y - t), (x + r, y + b), (1.0, 0.0, 0.0), 2\n",
    "    )\n",
    "\n",
    "plt.figure()\n",
    "plt.imshow(image)\n",
    "plt.show()"
   ]
  },
  {
   "cell_type": "code",
   "execution_count": null,
   "metadata": {},
   "outputs": [],
   "source": []
  },
  {
   "attachments": {},
   "cell_type": "markdown",
   "metadata": {
    "id": "y5nisZMK0RKy"
   },
   "source": [
    "# Modeling"
   ]
  },
  {
   "cell_type": "code",
   "execution_count": null,
   "metadata": {},
   "outputs": [],
   "source": [
    "# !pip install gdown"
   ]
  },
  {
   "cell_type": "code",
   "execution_count": null,
   "metadata": {},
   "outputs": [],
   "source": [
    "# import gdown\n",
    "\n",
    "# gdown.download(\n",
    "#     \"https://drive.google.com/uc?id=1SFOhg_vos_xSYHLMTDGFVZBYjo8cr2fG\", str(Path(data_dir, \"crowdhuman_dla34.pth\")), quiet=False\n",
    "# )\n",
    "# gdown.download(\n",
    "#     \"https://drive.google.com/uc?id=1iqRQjsG9BawIl8SlFomMg5iwkb6nqSpi\", str(Path(data_dir, \"fairmot_dla34.pth\")), quiet=False\n",
    "# )"
   ]
  },
  {
   "cell_type": "code",
   "execution_count": null,
   "metadata": {},
   "outputs": [],
   "source": [
    "!mkdir -p checkpoint log"
   ]
  },
  {
   "cell_type": "code",
   "execution_count": null,
   "metadata": {},
   "outputs": [],
   "source": [
    "from src.pose_dla_dcn import get_pose_net as get_dla_dcn\n",
    "from src.trainer import Trainer\n",
    "%load_ext autoreload\n",
    "%autoreload 2\n",
    "\n",
    "num_layers = 34\n",
    "heads = {\"hm\": 1, \"wh\": 4, \"reg\": 2}\n",
    "head_conv = 256\n",
    "net = get_dla_dcn(num_layers, heads, head_conv)\n",
    "model_path = Path(data_dir, \"crowdhuman_dla34.pth\")\n",
    "# model_path = Path(data_dir, \"fairmot_dla34.pth\")\n",
    "trainer = Trainer(\n",
    "    net, image_size=IMAGE_SIZE, device=\"cuda:1\", checkpoint_dir=\"checkpoint\", log_dir=\"log\",\n",
    "    model_path=None\n",
    ")"
   ]
  },
  {
   "cell_type": "code",
   "execution_count": null,
   "metadata": {},
   "outputs": [],
   "source": [
    "trainer.post_processor.conf_threshold"
   ]
  },
  {
   "cell_type": "code",
   "execution_count": null,
   "metadata": {},
   "outputs": [],
   "source": [
    "trainer.fit(train_dataset, val_dataset, batch_size=16, start_epoch=0, end_epoch=3)"
   ]
  },
  {
   "cell_type": "code",
   "execution_count": null,
   "metadata": {},
   "outputs": [],
   "source": [
    "trainer.fit(train_dataset, val_dataset, batch_size=16, start_epoch=3, end_epoch=5)"
   ]
  },
  {
   "cell_type": "code",
   "execution_count": null,
   "metadata": {
    "collapsed": true
   },
   "outputs": [],
   "source": [
    "trainer.fit(train_dataset, val_dataset, batch_size=16, start_epoch=5, end_epoch=6)"
   ]
  },
  {
   "cell_type": "code",
   "execution_count": null,
   "metadata": {},
   "outputs": [],
   "source": [
    "trainer.post_processor.conf_threshold = 0.5"
   ]
  },
  {
   "cell_type": "code",
   "execution_count": null,
   "metadata": {},
   "outputs": [],
   "source": [
    "trainer.optimizer.param_groups[0][\"lr\"] = 1e-5\n",
    "trainer.optimizer.param_groups[0][\"weight_decay\"] = 0"
   ]
  },
  {
   "cell_type": "code",
   "execution_count": null,
   "metadata": {
    "colab": {
     "background_save": true
    },
    "id": "Dxh3paGRUUTp"
   },
   "outputs": [],
   "source": [
    "trainer.fit(train_dataset, val_dataset, batch_size=16, start_epoch=6, end_epoch=20)"
   ]
  },
  {
   "cell_type": "code",
   "execution_count": null,
   "metadata": {},
   "outputs": [],
   "source": [
    "trainer.fit(train_dataset, val_dataset, batch_size=16, start_epoch=20, end_epoch=40)"
   ]
  },
  {
   "cell_type": "code",
   "execution_count": null,
   "metadata": {},
   "outputs": [],
   "source": []
  },
  {
   "cell_type": "code",
   "execution_count": null,
   "metadata": {},
   "outputs": [],
   "source": [
    "import torch\n",
    "trainer.net.load_state_dict(torch.load(Path(data_dir, \"crowdhuman_dla34.pth\"))[\"state_dict\"], strict=False)"
   ]
  },
  {
   "cell_type": "code",
   "execution_count": null,
   "metadata": {
    "collapsed": true
   },
   "outputs": [],
   "source": [
    "trainer = Trainer(\n",
    "    net, image_size=IMAGE_SIZE, device=\"cuda:1\", checkpoint_dir=\"checkpoint\", log_dir=\"log\",\n",
    "    model_path=Path(data_dir, \"crowdhuman_dla34.pth\")\n",
    "#     model_path=\"checkpoint/39.pth\"\n",
    ")"
   ]
  },
  {
   "cell_type": "code",
   "execution_count": null,
   "metadata": {
    "id": "pZhyCxrUD1US"
   },
   "outputs": [],
   "source": [
    "trainer.eval(val_dataset, batch_size=16)"
   ]
  }
 ],
 "metadata": {
  "accelerator": "GPU",
  "colab": {
   "collapsed_sections": [],
   "name": "fairmot-training.ipynb",
   "provenance": [],
   "toc_visible": true
  },
  "kernelspec": {
   "display_name": "Python 3 (ipykernel)",
   "language": "python",
   "name": "python3"
  },
  "language_info": {
   "codemirror_mode": {
    "name": "ipython",
    "version": 3
   },
   "file_extension": ".py",
   "mimetype": "text/x-python",
   "name": "python",
   "nbconvert_exporter": "python",
   "pygments_lexer": "ipython3",
   "version": "3.8.13"
  }
 },
 "nbformat": 4,
 "nbformat_minor": 1
}
