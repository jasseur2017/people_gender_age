{
 "cells": [
  {
   "attachments": {},
   "cell_type": "markdown",
   "metadata": {},
   "source": [
    "# Data"
   ]
  },
  {
   "cell_type": "code",
   "execution_count": null,
   "metadata": {},
   "outputs": [],
   "source": [
    "from pathlib import Path\n",
    "\n",
    "data_dir = Path(\"/home/jasseur/Downloads\")"
   ]
  },
  {
   "cell_type": "code",
   "execution_count": null,
   "metadata": {},
   "outputs": [],
   "source": [
    "!wget -O $data_dir/MOT15.zip \"https://motchallenge.net/data/MOT15.zip\"\n",
    "!wget -O $data_dir/MOT16.zip \"https://motchallenge.net/data/MOT16.zip\"\n",
    "!wget -O $data_dir/MOT17.zip \"https://motchallenge.net/data/MOT17.zip\""
   ]
  },
  {
   "cell_type": "code",
   "execution_count": null,
   "metadata": {},
   "outputs": [],
   "source": [
    "!unzip $data_dir/MOT15.zip -d $data_dir/\n",
    "!unzip $data_dir/MOT16.zip -d $data_dir/MOT16/\n",
    "!unzip $data_dir/MOT17.zip -d $data_dir/"
   ]
  },
  {
   "cell_type": "code",
   "execution_count": null,
   "metadata": {},
   "outputs": [],
   "source": [
    "!rm $data_dir/MOT15.zip\n",
    "!rm $data_dir/MOT16.zip\n",
    "!rm $data_dir/MOT17.zip"
   ]
  },
  {
   "cell_type": "code",
   "execution_count": null,
   "metadata": {},
   "outputs": [],
   "source": [
    "!ls $data_dir/MOT15"
   ]
  },
  {
   "cell_type": "code",
   "execution_count": null,
   "metadata": {},
   "outputs": [],
   "source": [
    "train_mot15_dir = Path(data_dir, \"MOT15\", \"train\")"
   ]
  },
  {
   "cell_type": "code",
   "execution_count": null,
   "metadata": {},
   "outputs": [],
   "source": [
    "!ls $train_mot15_dir"
   ]
  },
  {
   "cell_type": "code",
   "execution_count": null,
   "metadata": {},
   "outputs": [],
   "source": [
    "!ls $train_mot15_dir/ADL-Rundle-6"
   ]
  },
  {
   "cell_type": "code",
   "execution_count": null,
   "metadata": {},
   "outputs": [],
   "source": [
    "!cat $train_mot15_dir/ADL-Rundle-6/seqinfo.ini"
   ]
  },
  {
   "cell_type": "code",
   "execution_count": null,
   "metadata": {},
   "outputs": [],
   "source": [
    "import configparser\n",
    "import pandas as pd\n",
    "\n",
    "def get_labels(data_dir):\n",
    "    gt_dfs = []\n",
    "    read_config = configparser.ConfigParser()\n",
    "    for dir_path in data_dir.iterdir():\n",
    "        read_config.read(Path(dir_path, \"seqinfo.ini\"))\n",
    "        name = read_config.get(\"Sequence\", \"name\")\n",
    "        frameRate = read_config.get(\"Sequence\", \"frameRate\")\n",
    "        seqLength = read_config.get(\"Sequence\", \"seqLength\")\n",
    "        gt_path = Path(dir_path, \"gt/gt.txt\")\n",
    "        gt_header_list = [\"frame_id\", \"person_id\", \"x\", \"y\", \"w\", \"h\", \"cls_id\"]\n",
    "        gt_df = pd.read_csv(gt_path, names=gt_header_list, usecols=[0, 1, 2, 3, 4, 5, 6])\n",
    "        gt_df[\"video_name\"] = name\n",
    "        gt_df[\"video_length\"] = seqLength\n",
    "        gt_df[\"time\"] = gt_df[\"frame_id\"].apply(lambda x: (x - 1) / int(frameRate))\n",
    "        gt_dfs.append(gt_df)\n",
    "    gt_df = pd.concat(gt_dfs, ignore_index=True)\n",
    "    return gt_df\n",
    "\n",
    "train_mot15_dir = Path(data_dir, \"MOT15\", \"train\")\n",
    "train_mot16_dir = Path(data_dir, \"MOT16\", \"train\")\n",
    "train_mot17_dir = Path(data_dir, \"MOT17\", \"train\")\n",
    "train_mot15_df = get_labels(train_mot15_dir)\n",
    "train_mot16_df = get_labels(train_mot16_dir)\n",
    "train_mot17_df = get_labels(train_mot17_dir)"
   ]
  },
  {
   "cell_type": "code",
   "execution_count": null,
   "metadata": {
    "scrolled": true
   },
   "outputs": [],
   "source": [
    "train_mot17_df.head()"
   ]
  },
  {
   "cell_type": "code",
   "execution_count": null,
   "metadata": {},
   "outputs": [],
   "source": [
    "train_mot15_df.to_csv(Path(\"mot15\", \"annotation_train.csv\"), index=False)\n",
    "train_mot16_df.to_csv(Path(\"mot16\", \"annotation_train.csv\"), index=False)\n",
    "train_mot17_df.to_csv(Path(\"mot17\", \"annotation_train.csv\"), index=False)"
   ]
  },
  {
   "cell_type": "code",
   "execution_count": null,
   "metadata": {},
   "outputs": [],
   "source": []
  }
 ],
 "metadata": {
  "kernelspec": {
   "display_name": "Python 3 (ipykernel)",
   "language": "python",
   "name": "python3"
  },
  "language_info": {
   "codemirror_mode": {
    "name": "ipython",
    "version": 3
   },
   "file_extension": ".py",
   "mimetype": "text/x-python",
   "name": "python",
   "nbconvert_exporter": "python",
   "pygments_lexer": "ipython3",
   "version": "3.8.13"
  }
 },
 "nbformat": 4,
 "nbformat_minor": 2
}
