{
 "cells": [
  {
   "attachments": {},
   "cell_type": "markdown",
   "metadata": {
    "id": "lK58y2L3Xekd"
   },
   "source": [
    "# Data"
   ]
  },
  {
   "attachments": {},
   "cell_type": "markdown",
   "metadata": {
    "id": "uCQqiKX2XnKQ"
   },
   "source": [
    "## odgt to csv"
   ]
  },
  {
   "cell_type": "code",
   "execution_count": null,
   "metadata": {},
   "outputs": [],
   "source": [
    "from pathlib import Path\n",
    "\n",
    "data_dir = Path(\"/home/jasseur/Downloads\")"
   ]
  },
  {
   "cell_type": "code",
   "execution_count": null,
   "metadata": {},
   "outputs": [],
   "source": [
    "!mkdir -p $data_dir/crowdhuman"
   ]
  },
  {
   "cell_type": "code",
   "execution_count": null,
   "metadata": {},
   "outputs": [],
   "source": [
    "!ls $data_dir/crowdhuman"
   ]
  },
  {
   "cell_type": "code",
   "execution_count": null,
   "metadata": {},
   "outputs": [],
   "source": [
    "# !pip3 install gdown"
   ]
  },
  {
   "cell_type": "code",
   "execution_count": null,
   "metadata": {},
   "outputs": [],
   "source": [
    "# import gdown\n",
    "\n",
    "# gdown.download(\"https://drive.google.com/uc?id=134QOvaatwKdy0iIeNqA_p-xkAhkV4F8Y\", str(Path(data_dir, \"crowdhuman/CrowdHuman_train01.zip\", quiet=False)))\n",
    "# gdown.download(\"https://drive.google.com/uc?id=17evzPh7gc1JBNvnW1ENXLy5Kr4Q_Nnla\", str(Path(data_dir, \"crowdhuman/CrowdHuman_train02.zip\", quiet=False)))\n",
    "# gdown.download(\"https://drive.google.com/uc?id=1tdp0UCgxrqy1B6p8LkR-Iy0aIJ8l4fJW\", str(Path(data_dir, \"crowdhuman/CrowdHuman_train03.zip\", quiet=False)))\n",
    "# gdown.download(\"https://drive.google.com/uc?id=18jFI789CoHTppQ7vmRSFEdnGaSQZ4YzO\", str(Path(data_dir, \"crowdhuman/CrowdHuman_val.zip\", quiet=False)))\n",
    "# gdown.download(\"https://drive.google.com/uc?id=1UUTea5mYqvlUObsC1Z8CFldHJAtLtMX3\", str(Path(data_dir, \"crowdhuman/annotation_train.odgt\", quiet=False)))\n",
    "# gdown.download(\"https://drive.google.com/uc?id=10WIRwu8ju8GRLuCkZ_vT6hnNxs5ptwoL\", str(Path(data_dir, \"crowdhuman/annotation_val.odgt\", quiet=False)))"
   ]
  },
  {
   "cell_type": "code",
   "execution_count": null,
   "metadata": {},
   "outputs": [],
   "source": [
    "ls $data_dir/crowdhuman"
   ]
  },
  {
   "cell_type": "code",
   "execution_count": null,
   "metadata": {},
   "outputs": [],
   "source": [
    "# !for z in /home/jasseur/Downloads/crowdhuman/*.zip; do unzip $z -d /home/jasseur/Downloads/crowdhuman/; done"
   ]
  },
  {
   "cell_type": "code",
   "execution_count": null,
   "metadata": {},
   "outputs": [],
   "source": [
    "# !for z in /home/jasseur/Downloads/crowdhuman/*.zip; do rm $z; done"
   ]
  },
  {
   "cell_type": "code",
   "execution_count": null,
   "metadata": {
    "id": "2guN92S624I2"
   },
   "outputs": [],
   "source": [
    "!ls $data_dir/crowdhuman/Images |wc -l"
   ]
  },
  {
   "cell_type": "code",
   "execution_count": null,
   "metadata": {
    "id": "YhayllEg2-8P"
   },
   "outputs": [],
   "source": [
    "!du -sh $data_dir/crowdhuman/Images"
   ]
  },
  {
   "cell_type": "code",
   "execution_count": null,
   "metadata": {},
   "outputs": [],
   "source": [
    "# import pandas as pd\n",
    "# import json\n",
    "\n",
    "\n",
    "# def odgt2csv(odgt_file):\n",
    "#     with open(odgt_file, \"r\") as f:\n",
    "#         lines = f.readlines()\n",
    "#     dfs = []\n",
    "#     for line in lines:\n",
    "#         data = json.loads(line)\n",
    "#         df = pd.json_normalize(data[\"gtboxes\"])\n",
    "#         df[\"ID\"] = data[\"ID\"]\n",
    "#         dfs.append(df)\n",
    "#     data_df = pd.concat(dfs, ignore_index=False)\n",
    "#     data_df = data_df[data_df[\"extra.ignore\"] != 1].reset_index(drop=True)\n",
    "#     data_df.to_csv(odgt_file.with_suffix(\".csv\"), index=False)\n",
    "#     return odgt_file.with_suffix(\".csv\")"
   ]
  },
  {
   "cell_type": "code",
   "execution_count": null,
   "metadata": {},
   "outputs": [],
   "source": [
    "# train_crowd_file = Path(data_dir, \"crowdhuman\", \"annotation_train.odgt\")\n",
    "# odgt2csv(train_crowd_file)"
   ]
  },
  {
   "cell_type": "code",
   "execution_count": null,
   "metadata": {},
   "outputs": [],
   "source": [
    "# val_crowd_file = Path(data_dir, \"crowdhuman\", \"annotation_val.odgt\")\n",
    "# odgt2csv(val_crowd_file)"
   ]
  },
  {
   "attachments": {},
   "cell_type": "markdown",
   "metadata": {},
   "source": [
    "- fbox: human full-body bounding-box\n",
    "- vbox: human visible-region bounding-box\n",
    "- hbox: head bounding-box"
   ]
  },
  {
   "cell_type": "code",
   "execution_count": null,
   "metadata": {},
   "outputs": [],
   "source": []
  }
 ],
 "metadata": {
  "accelerator": "GPU",
  "colab": {
   "collapsed_sections": [],
   "name": "fairmot-training.ipynb",
   "provenance": [],
   "toc_visible": true
  },
  "kernelspec": {
   "display_name": "Python 3 (ipykernel)",
   "language": "python",
   "name": "python3"
  },
  "language_info": {
   "codemirror_mode": {
    "name": "ipython",
    "version": 3
   },
   "file_extension": ".py",
   "mimetype": "text/x-python",
   "name": "python",
   "nbconvert_exporter": "python",
   "pygments_lexer": "ipython3",
   "version": "3.8.13"
  }
 },
 "nbformat": 4,
 "nbformat_minor": 1
}
